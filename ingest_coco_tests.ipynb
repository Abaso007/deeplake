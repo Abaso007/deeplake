{
 "cells": [
  {
   "cell_type": "code",
   "execution_count": 1,
   "metadata": {},
   "outputs": [
    {
     "name": "stdout",
     "output_type": "stream",
     "text": [
      "env: BUGGER_OFF=True\n"
     ]
    },
    {
     "name": "stderr",
     "output_type": "stream",
     "text": [
      "/Users/davitgyulnazaryan/projects/activeloop/deeplake/deeplake/util/check_latest_version.py:32: UserWarning: A newer version of deeplake (3.0.14) is available. It's recommended that you update to the latest version using `pip install -U deeplake`.\n",
      "  warnings.warn(\n"
     ]
    }
   ],
   "source": [
    "import deeplake\n",
    "\n",
    "%env BUGGER_OFF=True"
   ]
  },
  {
   "cell_type": "code",
   "execution_count": 2,
   "metadata": {},
   "outputs": [],
   "source": [
    "src = \"../ingestion_templates/datasets/coco/val2017_small\"\n",
    "annotation_files = \"../ingestion_templates/datasets/coco/annotations/instances_val2017.json\"\n",
    "dest = \"mem://coco_ingested\""
   ]
  },
  {
   "cell_type": "code",
   "execution_count": 3,
   "metadata": {},
   "outputs": [],
   "source": [
    "key_to_tensor_mapping = {'segmentation': 'masks', 'bbox': 'boxes', 'category_id': 'categories'}\n",
    "file_to_group_mapping = {'instances_val2017.json': 'base_annotations'}\n",
    "ignore_one_group = False"
   ]
  },
  {
   "cell_type": "code",
   "execution_count": null,
   "metadata": {},
   "outputs": [],
   "source": []
  },
  {
   "cell_type": "code",
   "execution_count": 4,
   "metadata": {},
   "outputs": [
    {
     "name": "stderr",
     "output_type": "stream",
     "text": [
      "  0%|          | 0/10 [00:00<?, ?it/s]\n"
     ]
    },
    {
     "ename": "TensorDoesNotExistError",
     "evalue": "\"Tensor 'masks' does not exist.\"",
     "output_type": "error",
     "traceback": [
      "\u001b[0;31m---------------------------------------------------------------------------\u001b[0m",
      "\u001b[0;31mTensorDoesNotExistError\u001b[0m                   Traceback (most recent call last)",
      "Cell \u001b[0;32mIn [4], line 1\u001b[0m\n\u001b[0;32m----> 1\u001b[0m ds \u001b[39m=\u001b[39m deeplake\u001b[39m.\u001b[39mingest_coco(\n\u001b[1;32m      2\u001b[0m     src\u001b[39m=\u001b[39msrc, \n\u001b[1;32m      3\u001b[0m     annotation_files\u001b[39m=\u001b[39mannotation_files, \n\u001b[1;32m      4\u001b[0m     dest\u001b[39m=\u001b[39mdest, \n\u001b[1;32m      5\u001b[0m     key_to_tensor_mapping\u001b[39m=\u001b[39mkey_to_tensor_mapping, \n\u001b[1;32m      6\u001b[0m     file_to_group_mapping\u001b[39m=\u001b[39mfile_to_group_mapping, \n\u001b[1;32m      7\u001b[0m     ignore_one_group\u001b[39m=\u001b[39mignore_one_group\n\u001b[1;32m      8\u001b[0m )\n",
      "File \u001b[0;32m~/projects/activeloop/deeplake/deeplake/api/dataset.py:939\u001b[0m, in \u001b[0;36mdataset.ingest_coco\u001b[0;34m(src, dest, annotation_files, key_to_tensor_mapping, file_to_group_mapping, ignore_one_group, progressbar, summary, ignore_keys, image_settings, **dataset_kwargs)\u001b[0m\n\u001b[1;32m    927\u001b[0m ds \u001b[39m=\u001b[39m deeplake\u001b[39m.\u001b[39mdataset(dest, \u001b[39m*\u001b[39m\u001b[39m*\u001b[39mdataset_kwargs)\n\u001b[1;32m    929\u001b[0m unstructured \u001b[39m=\u001b[39m CocoDataset(\n\u001b[1;32m    930\u001b[0m     source\u001b[39m=\u001b[39msrc,\n\u001b[1;32m    931\u001b[0m     annotation_files\u001b[39m=\u001b[39mannotation_files,\n\u001b[0;32m   (...)\u001b[0m\n\u001b[1;32m    936\u001b[0m     image_settings\u001b[39m=\u001b[39mimage_settings,\n\u001b[1;32m    937\u001b[0m )\n\u001b[0;32m--> 939\u001b[0m unstructured\u001b[39m.\u001b[39;49mstructure(\n\u001b[1;32m    940\u001b[0m     ds,\n\u001b[1;32m    941\u001b[0m     use_progress_bar\u001b[39m=\u001b[39;49mprogressbar,\n\u001b[1;32m    942\u001b[0m )\n\u001b[1;32m    944\u001b[0m \u001b[39mreturn\u001b[39;00m ds\n",
      "File \u001b[0;32m~/projects/activeloop/deeplake/deeplake/auto/unstructured/coco.py:399\u001b[0m, in \u001b[0;36mCocoDataset.structure\u001b[0;34m(self, ds, use_progress_bar)\u001b[0m\n\u001b[1;32m    393\u001b[0m     \u001b[39mfor\u001b[39;00m i, tensor \u001b[39min\u001b[39;00m \u001b[39menumerate\u001b[39m(tensors):\n\u001b[1;32m    395\u001b[0m         coco_key \u001b[39m=\u001b[39m tensor\u001b[39m.\u001b[39mmeta_data[\u001b[39m\"\u001b[39m\u001b[39mcoco_key\u001b[39m\u001b[39m\"\u001b[39m]\n\u001b[1;32m    396\u001b[0m         value \u001b[39m=\u001b[39m coco_2_deeplake(\n\u001b[1;32m    397\u001b[0m             coco_key,\n\u001b[1;32m    398\u001b[0m             ann[coco_key],\n\u001b[0;32m--> 399\u001b[0m             append_obj[tensor\u001b[39m.\u001b[39;49mname]\u001b[39m.\u001b[39mmeta,\n\u001b[1;32m    400\u001b[0m             category_lookup\u001b[39m=\u001b[39mid_2_label_mapping,\n\u001b[1;32m    401\u001b[0m         )\n\u001b[1;32m    403\u001b[0m         values[i]\u001b[39m.\u001b[39mappend(value)\n\u001b[1;32m    405\u001b[0m \u001b[39m# Append the annotation data\u001b[39;00m\n",
      "File \u001b[0;32m~/projects/activeloop/deeplake/deeplake/core/dataset/dataset.py:397\u001b[0m, in \u001b[0;36mDataset.__getitem__\u001b[0;34m(self, item, is_iteration)\u001b[0m\n\u001b[1;32m    395\u001b[0m         ret \u001b[39m=\u001b[39m \u001b[39mself\u001b[39m[splt[\u001b[39m0\u001b[39m]][splt[\u001b[39m1\u001b[39m]]\n\u001b[1;32m    396\u001b[0m     \u001b[39melse\u001b[39;00m:\n\u001b[0;32m--> 397\u001b[0m         \u001b[39mraise\u001b[39;00m TensorDoesNotExistError(item)\n\u001b[1;32m    398\u001b[0m \u001b[39melif\u001b[39;00m \u001b[39misinstance\u001b[39m(item, (\u001b[39mint\u001b[39m, \u001b[39mslice\u001b[39m, \u001b[39mlist\u001b[39m, \u001b[39mtuple\u001b[39m, Index, \u001b[39mtype\u001b[39m(\u001b[39mEllipsis\u001b[39m))):\n\u001b[1;32m    399\u001b[0m     \u001b[39mif\u001b[39;00m (\n\u001b[1;32m    400\u001b[0m         \u001b[39misinstance\u001b[39m(item, \u001b[39mlist\u001b[39m)\n\u001b[1;32m    401\u001b[0m         \u001b[39mand\u001b[39;00m \u001b[39mlen\u001b[39m(item)\n\u001b[0;32m   (...)\u001b[0m\n\u001b[1;32m    409\u001b[0m         )\n\u001b[1;32m    410\u001b[0m     ):\n",
      "\u001b[0;31mTensorDoesNotExistError\u001b[0m: \"Tensor 'masks' does not exist.\""
     ]
    }
   ],
   "source": [
    "ds = deeplake.ingest_coco(\n",
    "    src=src, \n",
    "    annotation_files=annotation_files, \n",
    "    dest=dest, \n",
    "    key_to_tensor_mapping=key_to_tensor_mapping, \n",
    "    file_to_group_mapping=file_to_group_mapping, \n",
    "    ignore_one_group=ignore_one_group\n",
    ")"
   ]
  },
  {
   "cell_type": "code",
   "execution_count": null,
   "metadata": {},
   "outputs": [
    {
     "ename": "TypeError",
     "evalue": "'NoneType' object is not a mapping",
     "output_type": "error",
     "traceback": [
      "\u001b[0;31m---------------------------------------------------------------------------\u001b[0m",
      "\u001b[0;31mTypeError\u001b[0m                                 Traceback (most recent call last)",
      "Cell \u001b[0;32mIn [9], line 3\u001b[0m\n\u001b[1;32m      1\u001b[0m a \u001b[39m=\u001b[39m \u001b[39mNone\u001b[39;00m\n\u001b[0;32m----> 3\u001b[0m \u001b[39mprint\u001b[39m({\u001b[39m\"\u001b[39m\u001b[39mb\u001b[39m\u001b[39m\"\u001b[39m: \u001b[39m\"\u001b[39m\u001b[39mc\u001b[39m\u001b[39m\"\u001b[39m, \u001b[39m*\u001b[39m\u001b[39m*\u001b[39ma})\n",
      "\u001b[0;31mTypeError\u001b[0m: 'NoneType' object is not a mapping"
     ]
    }
   ],
   "source": [
    "a = None\n",
    "\n",
    "print({\"b\": \"c\", **a})"
   ]
  },
  {
   "cell_type": "code",
   "execution_count": null,
   "metadata": {},
   "outputs": [],
   "source": []
  }
 ],
 "metadata": {
  "kernelspec": {
   "display_name": "Python 3.10.8 ('venv': venv)",
   "language": "python",
   "name": "python3"
  },
  "language_info": {
   "codemirror_mode": {
    "name": "ipython",
    "version": 3
   },
   "file_extension": ".py",
   "mimetype": "text/x-python",
   "name": "python",
   "nbconvert_exporter": "python",
   "pygments_lexer": "ipython3",
   "version": "3.10.8"
  },
  "orig_nbformat": 4,
  "vscode": {
   "interpreter": {
    "hash": "dc1519b55fb38900e0a808c3e3516b1f52c8b210c96968288def553962de0948"
   }
  }
 },
 "nbformat": 4,
 "nbformat_minor": 2
}
